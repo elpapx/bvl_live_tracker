{
 "cells": [
  {
   "cell_type": "code",
   "id": "initial_id",
   "metadata": {
    "collapsed": true,
    "ExecuteTime": {
     "end_time": "2025-04-02T16:44:40.286950Z",
     "start_time": "2025-04-02T16:44:39.323117Z"
    }
   },
   "source": "import pandas as pd",
   "outputs": [],
   "execution_count": 1
  },
  {
   "metadata": {
    "ExecuteTime": {
     "end_time": "2025-04-02T18:56:53.815304Z",
     "start_time": "2025-04-02T18:56:53.728138Z"
    }
   },
   "cell_type": "code",
   "source": [
    "BAP = pd.read_csv(r\"E:\\papx\\end_to_end_ml\\nb_pr\\bvl_live_tracker_v1\\data\\bap_stock_data.csv\")\n",
    "BRK = pd.read_csv(r'E:\\papx\\end_to_end_ml\\nb_pr\\bvl_live_tracker_v1\\data\\brk-b_stock_data.csv')\n",
    "ILF = pd.read_csv(r'E:\\papx\\end_to_end_ml\\nb_pr\\bvl_live_tracker_v1\\data\\ilf_etf_data.csv')"
   ],
   "id": "76a1d5532279dc57",
   "outputs": [],
   "execution_count": 10
  },
  {
   "metadata": {
    "ExecuteTime": {
     "end_time": "2025-04-02T18:57:10.963965Z",
     "start_time": "2025-04-02T18:57:10.601145Z"
    }
   },
   "cell_type": "code",
   "source": "BAP.info()",
   "id": "efc3c3e5ee2f8dde",
   "outputs": [
    {
     "name": "stdout",
     "output_type": "stream",
     "text": [
      "<class 'pandas.core.frame.DataFrame'>\n",
      "RangeIndex: 126 entries, 0 to 125\n",
      "Data columns (total 20 columns):\n",
      " #   Column             Non-Null Count  Dtype  \n",
      "---  ------             --------------  -----  \n",
      " 0   currentPrice       126 non-null    float64\n",
      " 1   previousClose      126 non-null    float64\n",
      " 2   open               126 non-null    float64\n",
      " 3   dayLow             126 non-null    float64\n",
      " 4   dayHigh            126 non-null    float64\n",
      " 5   bid                126 non-null    float64\n",
      " 6   dividendYield      126 non-null    float64\n",
      " 7   earningsGrowth     126 non-null    float64\n",
      " 8   revenueGrowth      126 non-null    float64\n",
      " 9   grossMargins       126 non-null    float64\n",
      " 10  ebitdaMargins      126 non-null    float64\n",
      " 11  operatingMargins   126 non-null    float64\n",
      " 12  financialCurrency  126 non-null    object \n",
      " 13  returnOnAssets     126 non-null    float64\n",
      " 14  returnOnEquity     126 non-null    float64\n",
      " 15  bookValue          126 non-null    float64\n",
      " 16  priceToBook        126 non-null    float64\n",
      " 17  volumen            125 non-null    float64\n",
      " 18  symbol             126 non-null    object \n",
      " 19  timestamp          126 non-null    object \n",
      "dtypes: float64(17), object(3)\n",
      "memory usage: 19.8+ KB\n"
     ]
    }
   ],
   "execution_count": 13
  },
  {
   "metadata": {
    "ExecuteTime": {
     "end_time": "2025-04-02T18:58:16.717348Z",
     "start_time": "2025-04-02T18:58:16.703868Z"
    }
   },
   "cell_type": "code",
   "source": [
    "stocks = [BAP, BRK, ILF]\n",
    "for i in stocks:\n",
    "    print(i.isna().sum())"
   ],
   "id": "6e2eb7e50c795fff",
   "outputs": [
    {
     "name": "stdout",
     "output_type": "stream",
     "text": [
      "currentPrice         0\n",
      "previousClose        0\n",
      "open                 0\n",
      "dayLow               0\n",
      "dayHigh              0\n",
      "bid                  0\n",
      "dividendYield        0\n",
      "earningsGrowth       0\n",
      "revenueGrowth        0\n",
      "grossMargins         0\n",
      "ebitdaMargins        0\n",
      "operatingMargins     0\n",
      "financialCurrency    0\n",
      "returnOnAssets       0\n",
      "returnOnEquity       0\n",
      "bookValue            0\n",
      "priceToBook          0\n",
      "volumen              1\n",
      "symbol               0\n",
      "timestamp            0\n",
      "dtype: int64\n",
      "currentPrice           0\n",
      "previousClose          0\n",
      "open                   0\n",
      "dayLow                 0\n",
      "dayHigh                0\n",
      "bid                    0\n",
      "dividendYield        126\n",
      "earningsGrowth         0\n",
      "revenueGrowth          0\n",
      "grossMargins           0\n",
      "ebitdaMargins          0\n",
      "operatingMargins       0\n",
      "financialCurrency      0\n",
      "returnOnAssets         0\n",
      "returnOnEquity         0\n",
      "bookValue              0\n",
      "priceToBook            0\n",
      "volumen                1\n",
      "symbol                 0\n",
      "timestamp              0\n",
      "dtype: int64\n",
      "currentPrice             0\n",
      "previousClose            0\n",
      "open                     0\n",
      "dayLow                   0\n",
      "dayHigh                  0\n",
      "volume                   0\n",
      "regularMarketVolume      0\n",
      "averageVolume            0\n",
      "averageVolume10days      0\n",
      "bid                      0\n",
      "ask                      0\n",
      "dividendYield            0\n",
      "volumen                  1\n",
      "symbol                   0\n",
      "timestamp              125\n",
      "dtype: int64\n"
     ]
    }
   ],
   "execution_count": 15
  },
  {
   "metadata": {
    "ExecuteTime": {
     "end_time": "2025-04-02T19:46:18.803506Z",
     "start_time": "2025-04-02T19:46:18.793652Z"
    }
   },
   "cell_type": "code",
   "source": [
    "def load_csv_data():\n",
    "    \"\"\"Carga todos los archivos CSV en memoria.\"\"\"\n",
    "    global data_cache\n",
    "    files = list(DATA_DIR.glob(\"*.csv\"))\n",
    "    print(\"Archivos encontrados:\", [file.resolve() for file in files])  # Imprimir rutas absolutas\n",
    "\n",
    "    data_cache.clear()\n",
    "    for file in files:\n",
    "        try:\n",
    "            df = pd.read_csv(file, usecols=['currentPrice', 'previousClose', 'open', 'dayLow', 'dayHigh',\n",
    "                                            'dividendYield', 'financialCurrency', 'volume', 'symbol', 'timestamp'])\n",
    "            data_cache[file.stem] = df\n",
    "        except Exception as e:\n",
    "            print(f\"Error cargando {file.name}: {e}\")\n",
    "    print(\"Archivos cargados en data_cache:\", data_cache.keys())\n"
   ],
   "id": "17ccd392c6cab3ba",
   "outputs": [],
   "execution_count": 26
  }
 ],
 "metadata": {
  "kernelspec": {
   "display_name": "Python 3",
   "language": "python",
   "name": "python3"
  },
  "language_info": {
   "codemirror_mode": {
    "name": "ipython",
    "version": 2
   },
   "file_extension": ".py",
   "mimetype": "text/x-python",
   "name": "python",
   "nbconvert_exporter": "python",
   "pygments_lexer": "ipython2",
   "version": "2.7.6"
  }
 },
 "nbformat": 4,
 "nbformat_minor": 5
}
